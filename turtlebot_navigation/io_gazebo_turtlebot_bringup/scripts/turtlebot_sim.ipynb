{
 "cells": [
  {
   "cell_type": "markdown",
   "metadata": {},
   "source": [
    "### Multiple turtlebot simulator with rapyuta.io."
   ]
  },
  {
   "cell_type": "markdown",
   "metadata": {},
   "source": [
    "#### 1.IDs\n",
    "you can copy from rapyuta.io console"
   ]
  },
  {
   "cell_type": "code",
   "execution_count": 1,
   "metadata": {},
   "outputs": [],
   "source": [
    "AUTH_TOKEN = 'EfTVySQLTu57qrXgtr3NhBs2HpjjPCh3wwVZVYRD'\n",
    "PROJECT_ID = 'project-fycsplhkhcymtvsmhjadjlae'\n",
    "deployment_name_suffix = '_yu'\n",
    "\n",
    "#gazebo\n",
    "SIMULATOR_PACKAGE_ID = 'pkg-zbwnbmougwdbajbhmymsuxsj'\n",
    "SIMULATOR_PLAN_ID = 'plan-raqssiekewbjcmsmktxuxtvd'\n",
    "SIMULATOR_COMPONENT = 'gazebo'\n",
    "\n",
    "#rosbridge\n",
    "ROSBRIDGE_PACKAGE_ID = 'pkg-znheuolmabxoqwdzaafberee'\n",
    "ROSBRIDGE_PLAN_ID = 'plan-shzbvioqwvrbwswpbtalppvp'\n",
    "\n",
    "#ui\n",
    "UI_PACKAGE_ID = 'pkg-uotxzftpaxxkcddilhpptozl'\n",
    "UI_PLAN_ID = 'plan-suvouqjarpgmkuwllgmlqttr'\n",
    "\n",
    "#app_multi_tv1_external\n",
    "APP_PACKAGE_ID = 'pkg-cdgibmehhzlfvdktpgizgwos'\n",
    "APP_PLAN_ID = 'plan-beqwcwoikdlbjnpsvfgmcxyl'\n",
    "APP_COMPONENT = 'turtle'\n",
    "\n",
    "#params\n",
    "sim_params = {'WORLD':'turtlebot3_world', 'VNC_PASSWORD':'rapyuta'}\n",
    "robot_params = [\n",
    "    {'TURTLEBOT3_MODEL':'burger', 'ROBOT_NAME':'turtle0', 'X_POS':-0.5, 'Y_POS':-0.5, 'YAW':0.00},\n",
    "    {'TURTLEBOT3_MODEL':'waffle', 'ROBOT_NAME':'turtle1', 'X_POS': 0.5, 'Y_POS': 0.5, 'YAW':3.14},\n",
    "]\n",
    "robot_num = len(robot_params)"
   ]
  },
  {
   "cell_type": "markdown",
   "metadata": {},
   "source": [
    "#### 2. import module and create Client Instance"
   ]
  },
  {
   "cell_type": "code",
   "execution_count": 2,
   "metadata": {},
   "outputs": [],
   "source": [
    "from rapyuta_io import Client\n",
    "client = Client(AUTH_TOKEN, PROJECT_ID)"
   ]
  },
  {
   "cell_type": "markdown",
   "metadata": {},
   "source": [
    "#### 3.Simulator deployment"
   ]
  },
  {
   "cell_type": "code",
   "execution_count": 3,
   "metadata": {},
   "outputs": [
    {
     "name": "stdout",
     "output_type": "stream",
     "text": [
      "gazebo started: https://inst-sjelpocyjzpbwqmfnohhlznh-jsdwuc.ep-r.io:443\n"
     ]
    }
   ],
   "source": [
    "simulator_package = client.get_package(SIMULATOR_PACKAGE_ID)\n",
    "simulator_configuration = simulator_package.get_provision_configuration(SIMULATOR_PLAN_ID)\n",
    "for key in sim_params:\n",
    "    simulator_configuration.add_parameter(SIMULATOR_COMPONENT, key, sim_params[key])\n",
    "\n",
    "simulator_deployment = simulator_package.provision(\n",
    "                deployment_name = 'sim' + deployment_name_suffix,\n",
    "\t\t\t\tprovision_configuration = simulator_configuration)\n",
    "result = simulator_deployment.poll_deployment_till_ready(retry_count=50, sleep_interval=6)\n",
    "print('gazebo started: ' + result['componentInfo'][0]['networkEndpoints']['vnc'])"
   ]
  },
  {
   "cell_type": "markdown",
   "metadata": {},
   "source": [
    "#### 4.App deployments"
   ]
  },
  {
   "cell_type": "code",
   "execution_count": 4,
   "metadata": {},
   "outputs": [
    {
     "name": "stdout",
     "output_type": "stream",
     "text": [
      "turtle0_yu started\n",
      "turtle1_yu started\n"
     ]
    }
   ],
   "source": [
    "app_deployments = [None, None]\n",
    "app_package = client.get_package(APP_PACKAGE_ID)\n",
    "for i in range(robot_num):\n",
    "    name = robot_params[i]['ROBOT_NAME']\n",
    "    app_configuration = app_package.get_provision_configuration(APP_PLAN_ID)\n",
    "    app_configuration.add_dependent_deployment(simulator_deployment)\n",
    "    for key in robot_params[i]:\n",
    "        app_configuration.add_parameter(APP_COMPONENT, key, robot_params[i][key])\n",
    "    app_configuration.set_component_alias(APP_COMPONENT, name)\n",
    "    app_deployments[i] = app_package.provision(\n",
    "                    deployment_name = name + deployment_name_suffix,\n",
    "                    provision_configuration = app_configuration)\n",
    "    \n",
    "for i in range(robot_num):\n",
    "    app_deployments[i].poll_deployment_till_ready(retry_count=50, sleep_interval=6)\n",
    "    print(robot_params[i]['ROBOT_NAME'] + deployment_name_suffix + ' started')"
   ]
  },
  {
   "cell_type": "markdown",
   "metadata": {},
   "source": [
    "#### 5.Rosbridge deployment"
   ]
  },
  {
   "cell_type": "code",
   "execution_count": 5,
   "metadata": {},
   "outputs": [
    {
     "name": "stdout",
     "output_type": "stream",
     "text": [
      "rosbridge started\n"
     ]
    }
   ],
   "source": [
    "rosbridge_package = client.get_package(ROSBRIDGE_PACKAGE_ID)\n",
    "rosbridge_configuration = rosbridge_package.get_provision_configuration(ROSBRIDGE_PLAN_ID)\n",
    "# rosbridge_configuration.add_dependent_deployment(simulator_deployment)\n",
    "for dep in app_deployments:\n",
    "        rosbridge_configuration.add_dependent_deployment(dep)\n",
    "\n",
    "        \n",
    "rosbridge_deployment = rosbridge_package.provision(\n",
    "                deployment_name = 'rosbridge' + deployment_name_suffix,\n",
    "\t\t\t\tprovision_configuration = rosbridge_configuration)\n",
    "rosbridge_deployment.poll_deployment_till_ready()\n",
    "print('rosbridge started')"
   ]
  },
  {
   "cell_type": "markdown",
   "metadata": {},
   "source": [
    "#### 6.UI deployment"
   ]
  },
  {
   "cell_type": "code",
   "execution_count": 6,
   "metadata": {},
   "outputs": [
    {
     "name": "stdout",
     "output_type": "stream",
     "text": [
      "ui startedhttps://inst-cshqpapjwqfheluphaeyrcmz-zjoach.ep-r.io:443\n"
     ]
    }
   ],
   "source": [
    "ui_package = client.get_package(UI_PACKAGE_ID)\n",
    "ui_configuration = ui_package.get_provision_configuration(UI_PLAN_ID)\n",
    "ui_configuration.add_dependent_deployment(rosbridge_deployment)\n",
    "        \n",
    "ui_deployment = ui_package.provision(\n",
    "                deployment_name = 'ui' + deployment_name_suffix,\n",
    "\t\t\t\tprovision_configuration = ui_configuration)\n",
    "result = ui_deployment.poll_deployment_till_ready()\n",
    "print('ui started ' + result['componentInfo'][0]['networkEndpoints']['UserInterface'])"
   ]
  },
  {
   "cell_type": "markdown",
   "metadata": {},
   "source": [
    "#### 7.Deplovision all deploment"
   ]
  },
  {
   "cell_type": "code",
   "execution_count": 7,
   "metadata": {},
   "outputs": [
    {
     "data": {
      "text/plain": [
       "True"
      ]
     },
     "execution_count": 7,
     "metadata": {},
     "output_type": "execute_result"
    }
   ],
   "source": [
    "retry_limit = 3\n",
    "simulator_deployment.deprovision(retry_limit)\n",
    "for i in range(robot_num):\n",
    "    app_deployments[i].deprovision(retry_limit)\n",
    "rosbridge_deployment.deprovision(retry_limit)\n",
    "ui_deployment.deprovision(retry_limit)"
   ]
  },
  {
   "cell_type": "code",
   "execution_count": null,
   "metadata": {},
   "outputs": [],
   "source": []
  }
 ],
 "metadata": {
  "kernelspec": {
   "display_name": "Python 2",
   "language": "python",
   "name": "python2"
  },
  "language_info": {
   "codemirror_mode": {
    "name": "ipython",
    "version": 2
   },
   "file_extension": ".py",
   "mimetype": "text/x-python",
   "name": "python",
   "nbconvert_exporter": "python",
   "pygments_lexer": "ipython2",
   "version": "2.7.15+"
  }
 },
 "nbformat": 4,
 "nbformat_minor": 2
}
